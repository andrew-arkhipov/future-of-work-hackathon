{
 "cells": [
  {
   "cell_type": "code",
   "execution_count": 9,
   "metadata": {},
   "outputs": [],
   "source": [
    "import numpy as np\n",
    "import pandas as pd\n",
    "import random\n",
    "from collections import defaultdict\n",
    "\n",
    "random.seed(42)"
   ]
  },
  {
   "cell_type": "markdown",
   "metadata": {},
   "source": [
    "### Features\n",
    "- Creative vs. Consistent\n",
    "- Efficient vs. Easy-going\n",
    "- Introvert vs. Extrovert\n",
    "- Compassionate vs. Free-thinking\n",
    "- Sensitive vs. Secure"
   ]
  },
  {
   "cell_type": "markdown",
   "metadata": {},
   "source": [
    "### Types of Teams\n",
    "- Creative, Efficient, Extrovert, Free-thinking, Secure\n",
    "- Consistent, Efficient, Introvert, Compassionate, Secure\n",
    "- Consistent, Easy-going, Extrovert, Compassionate, Sensitive\n",
    "- Creative, Easy-going, Introvert, Free-thinking, Sensitive"
   ]
  },
  {
   "cell_type": "markdown",
   "metadata": {},
   "source": [
    "<b> Import necessary libraries. </b>"
   ]
  },
  {
   "cell_type": "code",
   "execution_count": 109,
   "metadata": {},
   "outputs": [],
   "source": [
    "from sklearn.neural_network import MLPClassifier\n",
    "from sklearn.metrics import accuracy_score\n",
    "from sklearn.model_selection import train_test_split"
   ]
  },
  {
   "cell_type": "markdown",
   "metadata": {},
   "source": [
    "<b> Personality class to prioritize modularity. </b>"
   ]
  },
  {
   "cell_type": "code",
   "execution_count": 130,
   "metadata": {},
   "outputs": [],
   "source": [
    "class Personality:\n",
    "    \n",
    "    valid_personality = {0: [0, 0, 1, 1, 1], 1: [1, 0, 0, 0, 1], 2: [1, 1, 1, 0, 0], 3: [0, 1, 0, 1, 0]}\n",
    "    class_vector = {0: [1, 0, 0, 0], 1: [0, 1, 0, 0], 2: [0, 0, 1, 0], 3: [0, 0, 0, 1]}\n",
    "    \n",
    "    def __init__(self, label):\n",
    "        self.label = label\n",
    "        self.personality = Personality.valid_personality[label]\n",
    "        self.class_label = Personality.class_vector[label]\n",
    "        \n",
    "    def __str__(self):\n",
    "        return \"Personality type: Type \" +  str(label + 1)\n",
    "    \n",
    "    def generate_person(self):\n",
    "        res = [x + abs(random.gauss(0, 0.3)) if x == 0 else x - abs(random.gauss(0, .3)) for x in self.personality]\n",
    "        return [res, self.class_label]"
   ]
  },
  {
   "cell_type": "code",
   "execution_count": 131,
   "metadata": {},
   "outputs": [],
   "source": [
    "def generate_data(num_samples):\n",
    "\n",
    "    data = np.ndarray((num_samples,5))\n",
    "    response = np.ndarray((num_samples,4))\n",
    "\n",
    "    for i in range(4):\n",
    "        p = Personality(i)\n",
    "        for j in range(num_samples // 4):\n",
    "            res = p.generate_person()\n",
    "            data[i * num_samples // 4 + j] = np.array(res[0])\n",
    "            response[i * num_samples // 4 + j] = np.array(res[1])\n",
    "            \n",
    "    return data, response"
   ]
  },
  {
   "cell_type": "code",
   "execution_count": 132,
   "metadata": {},
   "outputs": [],
   "source": [
    "data, response = generate_data(2000)"
   ]
  },
  {
   "cell_type": "markdown",
   "metadata": {},
   "source": [
    "<b> Create and train the model. </b>"
   ]
  },
  {
   "cell_type": "code",
   "execution_count": 143,
   "metadata": {},
   "outputs": [],
   "source": [
    "def get_model(data, response):\n",
    "    model = MLPClassifier(solver='lbfgs', alpha=5e-4, hidden_layer_sizes=(5, 10, 5), random_state=42, max_iter = 1000)\n",
    "    model.fit(data, response)\n",
    "    return model\n",
    "\n",
    "def reshape(lst):\n",
    "    return np.array(lst).reshape(1, -1)"
   ]
  },
  {
   "cell_type": "code",
   "execution_count": 144,
   "metadata": {},
   "outputs": [],
   "source": [
    "x_train, x_test, y_train, y_test = train_test_split(data, response, random_state=42)\n",
    "classifier = get_model(x_train, y_train)"
   ]
  },
  {
   "cell_type": "markdown",
   "metadata": {},
   "source": [
    "<b> Assess the accuracy of the model using a test set. </b>"
   ]
  },
  {
   "cell_type": "code",
   "execution_count": 145,
   "metadata": {},
   "outputs": [],
   "source": [
    "def assess_accuracy(model, x_test):\n",
    "    y_pred = np.ndarray((len(y_test), 4))\n",
    "    for i, point in enumerate(x_test):\n",
    "        y_pred[i] = model.predict(reshape(point))\n",
    "    print(\"Accuracy of:\", accuracy_score(y_test, y_pred))"
   ]
  },
  {
   "cell_type": "code",
   "execution_count": 146,
   "metadata": {},
   "outputs": [
    {
     "name": "stdout",
     "output_type": "stream",
     "text": [
      "Accuracy of: 0.978\n"
     ]
    }
   ],
   "source": [
    "assess_accuracy(classifier, x_test)"
   ]
  }
 ],
 "metadata": {
  "kernelspec": {
   "display_name": "Python 3",
   "language": "python",
   "name": "python3"
  },
  "language_info": {
   "codemirror_mode": {
    "name": "ipython",
    "version": 3
   },
   "file_extension": ".py",
   "mimetype": "text/x-python",
   "name": "python",
   "nbconvert_exporter": "python",
   "pygments_lexer": "ipython3",
   "version": "3.7.4"
  }
 },
 "nbformat": 4,
 "nbformat_minor": 4
}
